{
 "cells": [
  {
   "cell_type": "code",
   "execution_count": 3,
   "metadata": {},
   "outputs": [],
   "source": [
    "# this notebook is for testing computation of CG coefficients based on the validated Fortran version\n",
    "# C_{k l p q}^{n m} = <k l p q | n m>\n",
    "# j1 = k, m1 = l\n",
    "# j2 = p, m2 = q\n",
    "# j3 = n, m3 = m"
   ]
  },
  {
   "cell_type": "code",
   "execution_count": 87,
   "metadata": {},
   "outputs": [],
   "source": [
    "import numpy as np\n",
    "import matplotlib.pyplot as plt"
   ]
  },
  {
   "cell_type": "code",
   "execution_count": 115,
   "metadata": {},
   "outputs": [],
   "source": [
    "j1,m1,j2,m2,j3,m3=2,0,4,1,4,1\n",
    "numc=10\n",
    "cgc=np.zeros(numc)"
   ]
  },
  {
   "cell_type": "code",
   "execution_count": 116,
   "metadata": {},
   "outputs": [],
   "source": [
    "fact=np.empty(100)"
   ]
  },
  {
   "cell_type": "code",
   "execution_count": 117,
   "metadata": {},
   "outputs": [],
   "source": [
    "fact[0]=1.0\n",
    "for i in range(1,100):\n",
    "    fact[i]=i*fact[i-1]"
   ]
  },
  {
   "cell_type": "code",
   "execution_count": null,
   "metadata": {},
   "outputs": [],
   "source": []
  },
  {
   "cell_type": "code",
   "execution_count": 118,
   "metadata": {},
   "outputs": [
    {
     "name": "stdout",
     "output_type": "stream",
     "text": [
      "0 0 4 1 4 1 0.9999999999999999\n",
      "1 0 4 1 4 1 -0.22360679774997896\n",
      "2 0 4 1 4 1 -0.4332001127219817\n",
      "3 0 4 1 4 1 0.3243374865704012\n",
      "4 0 4 1 4 1 0.20114557032045344\n",
      "5 0 4 1 4 1 -0.3763089045031909\n",
      "6 0 4 1 4 1 0.01869893980016914\n",
      "7 0 4 1 4 1 0.3702201197435615\n",
      "8 0 4 1 4 1 -0.359166272572123\n",
      "9 0 4 1 4 1 0.0\n"
     ]
    }
   ],
   "source": [
    "for j in range(numc):\n",
    "    j1=j\n",
    "    cgc[j]=0.0\n",
    "    cgco=0.0\n",
    "\n",
    "# should check here for invalid (fractional) inputs for ji,mi values\n",
    "\n",
    "# check for conditions that give CG=0\n",
    "    if(j3<abs(j1-j2) or (j3>(j1+j2)) or (abs(m1)>j1) or (abs(m2)>j2) or (abs(m3)>j3)):\n",
    "        cgc[j]=0.0\n",
    "    else:\n",
    "        cgco=np.sqrt((j3+j3+1)/fact[j1+j2+j3+1])\n",
    "        cgco=cgco*np.sqrt(fact[j1+j2-j3]*fact[j2+j3-j1]*fact[j1+j3-j2])\n",
    "        cgco=cgco*np.sqrt(fact[j1+m1]*fact[j1-m1]*fact[j2+m2]*fact[j2-m2]*fact[j3+m3]*fact[j3-m3])\n",
    "        sumk=0.0\n",
    "        for k in range(100):\n",
    "            cod1=(j1+j2-j3+k < 0.0)\n",
    "            cod2=(j3-j1-m2+k < 0.0)\n",
    "            cod3=(j3-j2+m1+k < 0.0)\n",
    "            cod4=(j1-m1-k < 0.0)\n",
    "            cod5=(j2+m2-k < 0.0)\n",
    "            if(cod1!=0 or cod2!=0 or cod3!=0 or cod4!=0 or cod5!=0):\n",
    "#            print('breaking loop at k=',k)\n",
    "                continue\n",
    "            else:\n",
    "                term=fact[j1+j2-j3-k]*fact[j3-j1-m2+k]*fact[j3-j2+m1+k]*fact[j1-m1-k]*fact[j2+m2-k]*fact[k]\n",
    "            if(np.mod(k,2)==1):\n",
    "                term=-term\n",
    "            sumk=sumk+1.0/term\n",
    "        cgco=cgco*sumk\n",
    "        cgc[j]=cgco\n",
    "    print(j1,m1,j2,m2,j3,m3,cgco)\n",
    "    \n",
    "    \n",
    "    \n",
    "    \n",
    "    \n",
    "    \n",
    "    \n",
    "    "
   ]
  },
  {
   "cell_type": "code",
   "execution_count": 120,
   "metadata": {},
   "outputs": [
    {
     "data": {
      "text/plain": [
       "[<matplotlib.lines.Line2D at 0x11e2bbc88>]"
      ]
     },
     "execution_count": 120,
     "metadata": {},
     "output_type": "execute_result"
    },
    {
     "data": {
      "image/png": "[encoded data removed]",
      "text/plain": [
       "<Figure size 432x288 with 1 Axes>"
      ]
     },
     "metadata": {
      "needs_background": "light"
     },
     "output_type": "display_data"
    }
   ],
   "source": [
    "plt.plot(abs(cgc),'o-')"
   ]
  },
  {
   "cell_type": "code",
   "execution_count": null,
   "metadata": {},
   "outputs": [],
   "source": []
  }
 ],
 "metadata": {
  "kernelspec": {
   "display_name": "Python 3",
   "language": "python",
   "name": "python3"
  },
  "language_info": {
   "codemirror_mode": {
    "name": "ipython",
    "version": 3
   },
   "file_extension": ".py",
   "mimetype": "text/x-python",
   "name": "python",
   "nbconvert_exporter": "python",
   "pygments_lexer": "ipython3",
   "version": "3.7.3"
  }
 },
 "nbformat": 4,
 "nbformat_minor": 2
}
