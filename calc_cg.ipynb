{
 "cells": [
  {
   "cell_type": "code",
   "execution_count": 26,
   "metadata": {},
   "outputs": [],
   "source": [
    "import numpy as np\n",
    "import matplotlib.pyplot as plt\n",
    "def calc_cg(j1,m1,j2,m2,j3,m3):\n",
    "    fact=np.empty(100)\n",
    "    fact[0]=1.0\n",
    "    cgco=0.0\n",
    "    for i in range(1,100):\n",
    "        fact[i]=i*fact[i-1]\n",
    "    if(j3<abs(j1-j2) or (j3>(j1+j2)) or (abs(m1)>j1) or (abs(m2)>j2) or (abs(m3)>j3)):\n",
    "        cgco=0.0\n",
    "    else:\n",
    "        cgco=np.sqrt((j3+j3+1)/fact[j1+j2+j3+1])\n",
    "        cgco=cgco*np.sqrt(fact[j1+j2-j3]*fact[j2+j3-j1]*fact[j1+j3-j2])\n",
    "        cgco=cgco*np.sqrt(fact[j1+m1]*fact[j1-m1]*fact[j2+m2]*fact[j2-m2]*fact[j3+m3]*fact[j3-m3])\n",
    "        sumk=0.0\n",
    "        for k in range(100):\n",
    "            cod1=(j1+j2-j3+k < 0.0)\n",
    "            cod2=(j3-j1-m2+k < 0.0)\n",
    "            cod3=(j3-j2+m1+k < 0.0)\n",
    "            cod4=(j1-m1-k < 0.0) \n",
    "            cod5=(j2+m2-k < 0.0)\n",
    "            if(cod1!=0 or cod2!=0 or cod3!=0 or cod4!=0 or cod5!=0):\n",
    "                continue\n",
    "            else:\n",
    "                term=fact[j1+j2-j3-k]*fact[j3-j1-m2+k]*fact[j3-j2+m1+k]*fact[j1-m1-k]*fact[j2+m2-k]*fact[k]\n",
    "            if(np.mod(k,2)==1):\n",
    "                term=-term\n",
    "            sumk=sumk+1.0/term\n",
    "        cgco=cgco*sumk\n",
    "    return cgco"
   ]
  },
  {
   "cell_type": "code",
   "execution_count": 32,
   "metadata": {},
   "outputs": [
    {
     "name": "stdout",
     "output_type": "stream",
     "text": [
      "-0.7071067811865475\n"
     ]
    }
   ],
   "source": [
    "print(calc_cg(3,0,1,1,3,1))"
   ]
  },
  {
   "cell_type": "code",
   "execution_count": 49,
   "metadata": {},
   "outputs": [
    {
     "name": "stdout",
     "output_type": "stream",
     "text": [
      "R_{p+1} =  0.0 , alpha_{+} =  nan\n",
      "R_{p-1} =  0.0 , alpha_{-} =  nan\n",
      "Rp+1/Rp-1 =  nan\n",
      "-----------------\n",
      "R_{p+1} =  -1.4832396974191306 , alpha_{+} =  2.2453655975512437\n",
      "R_{p-1} =  1.3228756555322958 , alpha_{-} =  1.8073922282301285\n",
      "Rp+1/Rp-1 =  -1.1212238211627743\n",
      "-----------------\n",
      "R_{p+1} =  -4.86265920515252 , alpha_{+} =  -20.820662813657016\n",
      "R_{p-1} =  4.310286699115434 , alpha_{-} =  -13.168143377105215\n",
      "Rp+1/Rp-1 =  -1.1281521496355325\n",
      "-----------------\n",
      "R_{p+1} =  4.961409519036341 , alpha_{+} =  15.083699995033257\n",
      "R_{p-1} =  -4.351444005737053 , alpha_{-} =  13.942740046346707\n",
      "Rp+1/Rp-1 =  -1.140175425099138\n",
      "-----------------\n",
      "R_{p+1} =  3.763089045031908 , alpha_{+} =  -12.247448713915887\n",
      "R_{p-1} =  -3.2433748657040113 , alpha_{-} =  -7.745966692414833\n",
      "Rp+1/Rp-1 =  -1.1602387022306428\n",
      "-----------------\n",
      "R_{p+1} =  -7.982717345852616 , alpha_{+} =  55.11351921262151\n",
      "R_{p-1} =  6.678820506395074 , alpha_{-} =  243.99795081106726\n",
      "Rp+1/Rp-1 =  -1.1952286093343938\n",
      "-----------------\n",
      "R_{p+1} =  0.41979015736886527 , alpha_{+} =  1.2247448713915905\n",
      "R_{p-1} =  -0.33187325915153276 , alpha_{-} =  0.7745966692414845\n",
      "Rp+1/Rp-1 =  -1.2649110640673518\n",
      "-----------------\n",
      "R_{p+1} =  8.07724941065695 , alpha_{+} =  -194.32618626079855\n",
      "R_{p-1} =  -5.54094738308332 , alpha_{-} =  -14.459137825841022\n",
      "Rp+1/Rp-1 =  -1.4577379737113254\n",
      "-----------------\n",
      "R_{p+1} =  -6.464992906298214 , alpha_{+} =  19.595917942265427\n",
      "R_{p-1} =  0.0 , alpha_{-} =  nan\n",
      "Rp+1/Rp-1 =  -inf\n",
      "-----------------\n"
     ]
    },
    {
     "name": "stderr",
     "output_type": "stream",
     "text": [
      "/Users/justin/anaconda3/lib/python3.7/site-packages/ipykernel_launcher.py:24: RuntimeWarning: invalid value encountered in double_scalars\n",
      "/Users/justin/anaconda3/lib/python3.7/site-packages/ipykernel_launcher.py:26: RuntimeWarning: invalid value encountered in double_scalars\n",
      "/Users/justin/anaconda3/lib/python3.7/site-packages/ipykernel_launcher.py:28: RuntimeWarning: invalid value encountered in double_scalars\n",
      "/Users/justin/anaconda3/lib/python3.7/site-packages/ipykernel_launcher.py:30: RuntimeWarning: invalid value encountered in double_scalars\n",
      "/Users/justin/anaconda3/lib/python3.7/site-packages/ipykernel_launcher.py:24: RuntimeWarning: divide by zero encountered in double_scalars\n",
      "/Users/justin/anaconda3/lib/python3.7/site-packages/ipykernel_launcher.py:30: RuntimeWarning: divide by zero encountered in double_scalars\n"
     ]
    }
   ],
   "source": [
    "#test calcs for Rp+1\n",
    "\n",
    "j1,m1,j2,m2,j3,m3 = 3,0,4,1,4,1\n",
    "numv=9\n",
    "rpr=np.empty(numv)+0.0\n",
    "\n",
    "for jj in range(numv):\n",
    "    cgmid=calc_cg(jj,m1,j2+1,m2,j3,m3)\n",
    "    cgup =calc_cg(jj,m1,j2+1,m2+1,j3,m3+1)\n",
    "    cglow=calc_cg(jj,m1,j2+1,m2-1,j3,m3-1)\n",
    "    cgmid2=calc_cg(jj,m1,j2-1,m2,j3,m3)\n",
    "    cgup2 =calc_cg(jj,m1,j2-1,m2+1,j3,m3+1)\n",
    "    cglow2=calc_cg(jj,m1,j2-1,m2-1,j3,m3-1)\n",
    "    c0   =calc_cg(jj,m1,j2,m2,j3,m3)\n",
    "\n",
    "    rplus=m3*np.sqrt((j2+1.0)**2-m2**2)*cgmid - \\\n",
    "    0.5*np.sqrt((j3*(j3+1.0)-m3*(m3+1.0))*(j2+m2+2.0)*(j2+m2+1.0))*cgup + \\\n",
    "    0.5*np.sqrt((j3*(j3+1.0)-m3*(m3-1.0))*(j2-m2+2.0)*(j2-m2+1.0))*cglow\n",
    "\n",
    "    rminus=-m3*np.sqrt(j2**2-m2**2)*cgmid2 - \\\n",
    "    0.5*np.sqrt((j3*(j3+1.0)-m3*(m3+1.0))*(j2-m2)*(j2-m2-1.0))*cgup2 + \\\n",
    "    0.5*np.sqrt((j3*(j3+1.0)-m3*(m3-1.0))*(j2+m2)*(j2+m2-1.0))*cglow2\n",
    "    \n",
    "    rpr[jj]=rplus/rminus\n",
    "    \n",
    "    print(\"R_{p+1} = \",rplus,\", alpha_{+} = \",rplus/cgmid)\n",
    "#    if(cgmid2 == cgmid2):\n",
    "    print(\"R_{p-1} = \",rminus,\", alpha_{-} = \",rminus/cgmid2)\n",
    "#    if(rminus == rminus):\n",
    "    print(\"Rp+1/Rp-1 = \",rplus/rminus)\n",
    "    print(\"-----------------\")"
   ]
  },
  {
   "cell_type": "code",
   "execution_count": 59,
   "metadata": {},
   "outputs": [
    {
     "ename": "AttributeError",
     "evalue": "'list' object has no attribute 'set_yscale'",
     "output_type": "error",
     "traceback": [
      "\u001b[0;31m---------------------------------------------------------------------------\u001b[0m",
      "\u001b[0;31mAttributeError\u001b[0m                            Traceback (most recent call last)",
      "\u001b[0;32m<ipython-input-59-09b3ab5d9ece>\u001b[0m in \u001b[0;36m<module>\u001b[0;34m\u001b[0m\n\u001b[1;32m      1\u001b[0m \u001b[0max\u001b[0m\u001b[0;34m=\u001b[0m\u001b[0mplt\u001b[0m\u001b[0;34m.\u001b[0m\u001b[0mplot\u001b[0m\u001b[0;34m(\u001b[0m\u001b[0mabs\u001b[0m\u001b[0;34m(\u001b[0m\u001b[0mrpr\u001b[0m\u001b[0;34m)\u001b[0m\u001b[0;34m,\u001b[0m\u001b[0;34m'o'\u001b[0m\u001b[0;34m)\u001b[0m\u001b[0;34m\u001b[0m\u001b[0;34m\u001b[0m\u001b[0m\n\u001b[0;32m----> 2\u001b[0;31m \u001b[0max\u001b[0m\u001b[0;34m.\u001b[0m\u001b[0mset_yscale\u001b[0m\u001b[0;34m(\u001b[0m\u001b[0;34m'log'\u001b[0m\u001b[0;34m)\u001b[0m\u001b[0;34m\u001b[0m\u001b[0;34m\u001b[0m\u001b[0m\n\u001b[0m",
      "\u001b[0;31mAttributeError\u001b[0m: 'list' object has no attribute 'set_yscale'"
     ]
    },
    {
     "data": {
      "image/png": "[encoded data removed]",
      "text/plain": [
       "<Figure size 432x288 with 1 Axes>"
      ]
     },
     "metadata": {
      "needs_background": "light"
     },
     "output_type": "display_data"
    }
   ],
   "source": [
    "ax=plt.plot(abs(rpr),'o')\n",
    "#ax.set_yscale('log')"
   ]
  },
  {
   "cell_type": "code",
   "execution_count": null,
   "metadata": {},
   "outputs": [],
   "source": []
  }
 ],
 "metadata": {
  "kernelspec": {
   "display_name": "Python 3",
   "language": "python",
   "name": "python3"
  },
  "language_info": {
   "codemirror_mode": {
    "name": "ipython",
    "version": 3
   },
   "file_extension": ".py",
   "mimetype": "text/x-python",
   "name": "python",
   "nbconvert_exporter": "python",
   "pygments_lexer": "ipython3",
   "version": "3.7.3"
  }
 },
 "nbformat": 4,
 "nbformat_minor": 2
}
